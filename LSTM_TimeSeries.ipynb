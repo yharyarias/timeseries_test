{
  "nbformat": 4,
  "nbformat_minor": 0,
  "metadata": {
    "colab": {
      "name": "Predicción de demanda electrica con LSTM.ipynb",
      "provenance": []
    },
    "kernelspec": {
      "name": "python3",
      "display_name": "Python 3"
    },
    "language_info": {
      "name": "python"
    }
  },
  "cells": [
    {
      "cell_type": "code",
      "source": [
        "import pandas as pd\n",
        "df=pd.read_csv(\"/content/sales.csv\")"
      ],
      "metadata": {
        "id": "_eCvywZnN_q0"
      },
      "execution_count": 19,
      "outputs": []
    },
    {
      "cell_type": "code",
      "source": [
        "df.head()"
      ],
      "metadata": {
        "colab": {
          "base_uri": "https://localhost:8080/",
          "height": 206
        },
        "id": "zHlhxRTlOHks",
        "outputId": "f7f5cafd-6132-4c64-afd5-b499127578a8"
      },
      "execution_count": 20,
      "outputs": [
        {
          "output_type": "execute_result",
          "data": {
            "text/plain": [
              "         date  store  item  sales\n",
              "0  2013-01-01      1     1     13\n",
              "1  2013-01-02      1     1     11\n",
              "2  2013-01-03      1     1     14\n",
              "3  2013-01-04      1     1     13\n",
              "4  2013-01-05      1     1     10"
            ],
            "text/html": [
              "\n",
              "  <div id=\"df-800defaf-fcb4-4f13-80d6-9d3aa58e1bb8\">\n",
              "    <div class=\"colab-df-container\">\n",
              "      <div>\n",
              "<style scoped>\n",
              "    .dataframe tbody tr th:only-of-type {\n",
              "        vertical-align: middle;\n",
              "    }\n",
              "\n",
              "    .dataframe tbody tr th {\n",
              "        vertical-align: top;\n",
              "    }\n",
              "\n",
              "    .dataframe thead th {\n",
              "        text-align: right;\n",
              "    }\n",
              "</style>\n",
              "<table border=\"1\" class=\"dataframe\">\n",
              "  <thead>\n",
              "    <tr style=\"text-align: right;\">\n",
              "      <th></th>\n",
              "      <th>date</th>\n",
              "      <th>store</th>\n",
              "      <th>item</th>\n",
              "      <th>sales</th>\n",
              "    </tr>\n",
              "  </thead>\n",
              "  <tbody>\n",
              "    <tr>\n",
              "      <th>0</th>\n",
              "      <td>2013-01-01</td>\n",
              "      <td>1</td>\n",
              "      <td>1</td>\n",
              "      <td>13</td>\n",
              "    </tr>\n",
              "    <tr>\n",
              "      <th>1</th>\n",
              "      <td>2013-01-02</td>\n",
              "      <td>1</td>\n",
              "      <td>1</td>\n",
              "      <td>11</td>\n",
              "    </tr>\n",
              "    <tr>\n",
              "      <th>2</th>\n",
              "      <td>2013-01-03</td>\n",
              "      <td>1</td>\n",
              "      <td>1</td>\n",
              "      <td>14</td>\n",
              "    </tr>\n",
              "    <tr>\n",
              "      <th>3</th>\n",
              "      <td>2013-01-04</td>\n",
              "      <td>1</td>\n",
              "      <td>1</td>\n",
              "      <td>13</td>\n",
              "    </tr>\n",
              "    <tr>\n",
              "      <th>4</th>\n",
              "      <td>2013-01-05</td>\n",
              "      <td>1</td>\n",
              "      <td>1</td>\n",
              "      <td>10</td>\n",
              "    </tr>\n",
              "  </tbody>\n",
              "</table>\n",
              "</div>\n",
              "      <button class=\"colab-df-convert\" onclick=\"convertToInteractive('df-800defaf-fcb4-4f13-80d6-9d3aa58e1bb8')\"\n",
              "              title=\"Convert this dataframe to an interactive table.\"\n",
              "              style=\"display:none;\">\n",
              "        \n",
              "  <svg xmlns=\"http://www.w3.org/2000/svg\" height=\"24px\"viewBox=\"0 0 24 24\"\n",
              "       width=\"24px\">\n",
              "    <path d=\"M0 0h24v24H0V0z\" fill=\"none\"/>\n",
              "    <path d=\"M18.56 5.44l.94 2.06.94-2.06 2.06-.94-2.06-.94-.94-2.06-.94 2.06-2.06.94zm-11 1L8.5 8.5l.94-2.06 2.06-.94-2.06-.94L8.5 2.5l-.94 2.06-2.06.94zm10 10l.94 2.06.94-2.06 2.06-.94-2.06-.94-.94-2.06-.94 2.06-2.06.94z\"/><path d=\"M17.41 7.96l-1.37-1.37c-.4-.4-.92-.59-1.43-.59-.52 0-1.04.2-1.43.59L10.3 9.45l-7.72 7.72c-.78.78-.78 2.05 0 2.83L4 21.41c.39.39.9.59 1.41.59.51 0 1.02-.2 1.41-.59l7.78-7.78 2.81-2.81c.8-.78.8-2.07 0-2.86zM5.41 20L4 18.59l7.72-7.72 1.47 1.35L5.41 20z\"/>\n",
              "  </svg>\n",
              "      </button>\n",
              "      \n",
              "  <style>\n",
              "    .colab-df-container {\n",
              "      display:flex;\n",
              "      flex-wrap:wrap;\n",
              "      gap: 12px;\n",
              "    }\n",
              "\n",
              "    .colab-df-convert {\n",
              "      background-color: #E8F0FE;\n",
              "      border: none;\n",
              "      border-radius: 50%;\n",
              "      cursor: pointer;\n",
              "      display: none;\n",
              "      fill: #1967D2;\n",
              "      height: 32px;\n",
              "      padding: 0 0 0 0;\n",
              "      width: 32px;\n",
              "    }\n",
              "\n",
              "    .colab-df-convert:hover {\n",
              "      background-color: #E2EBFA;\n",
              "      box-shadow: 0px 1px 2px rgba(60, 64, 67, 0.3), 0px 1px 3px 1px rgba(60, 64, 67, 0.15);\n",
              "      fill: #174EA6;\n",
              "    }\n",
              "\n",
              "    [theme=dark] .colab-df-convert {\n",
              "      background-color: #3B4455;\n",
              "      fill: #D2E3FC;\n",
              "    }\n",
              "\n",
              "    [theme=dark] .colab-df-convert:hover {\n",
              "      background-color: #434B5C;\n",
              "      box-shadow: 0px 1px 3px 1px rgba(0, 0, 0, 0.15);\n",
              "      filter: drop-shadow(0px 1px 2px rgba(0, 0, 0, 0.3));\n",
              "      fill: #FFFFFF;\n",
              "    }\n",
              "  </style>\n",
              "\n",
              "      <script>\n",
              "        const buttonEl =\n",
              "          document.querySelector('#df-800defaf-fcb4-4f13-80d6-9d3aa58e1bb8 button.colab-df-convert');\n",
              "        buttonEl.style.display =\n",
              "          google.colab.kernel.accessAllowed ? 'block' : 'none';\n",
              "\n",
              "        async function convertToInteractive(key) {\n",
              "          const element = document.querySelector('#df-800defaf-fcb4-4f13-80d6-9d3aa58e1bb8');\n",
              "          const dataTable =\n",
              "            await google.colab.kernel.invokeFunction('convertToInteractive',\n",
              "                                                     [key], {});\n",
              "          if (!dataTable) return;\n",
              "\n",
              "          const docLinkHtml = 'Like what you see? Visit the ' +\n",
              "            '<a target=\"_blank\" href=https://colab.research.google.com/notebooks/data_table.ipynb>data table notebook</a>'\n",
              "            + ' to learn more about interactive tables.';\n",
              "          element.innerHTML = '';\n",
              "          dataTable['output_type'] = 'display_data';\n",
              "          await google.colab.output.renderOutput(dataTable, element);\n",
              "          const docLink = document.createElement('div');\n",
              "          docLink.innerHTML = docLinkHtml;\n",
              "          element.appendChild(docLink);\n",
              "        }\n",
              "      </script>\n",
              "    </div>\n",
              "  </div>\n",
              "  "
            ]
          },
          "metadata": {},
          "execution_count": 20
        }
      ]
    },
    {
      "cell_type": "code",
      "source": [
        "# Loading date wrangling package\n",
        "from datetime import datetime\n"
      ],
      "metadata": {
        "id": "ADHdwZbVOM_s"
      },
      "execution_count": 21,
      "outputs": []
    },
    {
      "cell_type": "code",
      "source": [
        "df['date'] = pd.to_datetime(df.date, format='%Y-%m-%d')\n"
      ],
      "metadata": {
        "id": "AaN82Y9sOUyF"
      },
      "execution_count": 22,
      "outputs": []
    },
    {
      "cell_type": "code",
      "source": [
        "# Verificación que no hay datos duplicados\n",
        "# Si hay algunos duplicados promediamos los datos durante esos días duplicadoss\n",
        "df = df.groupby('date', as_index=False)['sales'].mean()\n"
      ],
      "metadata": {
        "id": "GDX8yosCOYDo"
      },
      "execution_count": 12,
      "outputs": []
    },
    {
      "cell_type": "code",
      "source": [
        "# Ordenar los valores\n",
        "df.sort_values('date', inplace=True)"
      ],
      "metadata": {
        "id": "XRzSnYfpOtca"
      },
      "execution_count": 10,
      "outputs": []
    },
    {
      "cell_type": "markdown",
      "source": [
        "Entonces necesitamos una función que convierta las series temporales en matrices X e Y para que el modelo de aprendizaje profundo comience a aprender. Digamos que queremos crear una función que explique los valores actuales de las series temporales utilizando 3 lags:\n",
        "Yt = f(Yt₋₁, Yt₋₂, Yt₋₃)"
      ],
      "metadata": {
        "id": "qIH_mFQfO10a"
      }
    },
    {
      "cell_type": "code",
      "source": [
        "X = [\n",
        "[1621.0, 1536.0, 1500.0], # First three lags\n",
        "[1536.0, 1500.0, 1434.0], # Second three lags\n",
        "[1500.0, 1434.0, 1489.0], # Third three lags\n",
        "]\n",
        "Y = [1434.0, 1489.0, 1620.0]"
      ],
      "metadata": {
        "id": "cEXxKuWxO3j4"
      },
      "execution_count": 23,
      "outputs": []
    },
    {
      "cell_type": "markdown",
      "source": [
        "Este es el truco más importante cuando se utiliza el aprendizaje profundo con series temporales. Puede alimentar estas matrices X e Y no solo a un sistema de red neuronal recurrente (como LSTM) sino a cualquier algoritmo de aprendizaje profundo de vainilla."
      ],
      "metadata": {
        "id": "sCBg4UnkO8cw"
      }
    },
    {
      "cell_type": "code",
      "source": [
        "\n",
        "import numpy as np\n",
        "\n",
        "def create_X_Y(ts: list, lag: int) -> tuple:\n",
        "    \"\"\"\n",
        "    Un método para crear una matriz X e Y a partir de una lista de series temporales para el entrenamiento de \n",
        "    modelos de aprendizaje profundo \n",
        "    \"\"\"\n",
        "    X, Y = [], []\n",
        "\n",
        "    if len(ts) - lag <= 0:\n",
        "        X.append(ts)\n",
        "    else:\n",
        "        for i in range(len(ts) - lag):\n",
        "            Y.append(ts[i + lag])\n",
        "            X.append(ts[i:(i + lag)])\n",
        "\n",
        "    X, Y = np.array(X), np.array(Y)\n",
        "\n",
        "    # Reshaping the X array to an LSTM input shape \n",
        "    X = np.reshape(X, (X.shape[0], X.shape[1], 1))\n",
        "    return X, Y"
      ],
      "metadata": {
        "id": "1BzFwyT2O9mN"
      },
      "execution_count": 13,
      "outputs": []
    },
    {
      "cell_type": "markdown",
      "source": [
        "El modelo de aprendizaje profundo tiene una capa LSTM (que también sirve como capa de entrada) y una capa de salida."
      ],
      "metadata": {
        "id": "6kzCA_trPGeW"
      }
    },
    {
      "cell_type": "code",
      "source": [
        "\n",
        "from keras.models import Sequential\n",
        "from keras.layers import LSTM, Dense\n",
        "\n",
        "# Defining the number of neurons in the LSTM layer\n",
        "n_layer = 20\n",
        "\n",
        "# Defining how many lags will be used in the time series\n",
        "n_lag = 3\n",
        "\n",
        "# Defining the model\n",
        "model = Sequential()\n",
        "model.add(LSTM(n_layer, activation='relu', input_shape=(n_lag, 1)))\n",
        "model.add(Dense(1))\n",
        "\n",
        "# The objective functions which will be minimized is mean squared error (mse)\n",
        "model.compile(optimizer='adam', loss='mse')"
      ],
      "metadata": {
        "id": "BVbTkD0DO_8y"
      },
      "execution_count": null,
      "outputs": []
    },
    {
      "cell_type": "code",
      "source": [
        "# Data wrangling\n",
        "import pandas as pd\n",
        "import numpy as np\n",
        "\n",
        "# Deep learning: \n",
        "from keras.models import Sequential\n",
        "from keras.layers import LSTM, Dense\n",
        "\n",
        "\n",
        "class DeepModelTS():\n",
        "    \"\"\"\n",
        "    Una clase para crear un modelo de serie temporal profunda\n",
        "    \"\"\"\n",
        "    def __init__(\n",
        "        self, \n",
        "        data: pd.DataFrame, \n",
        "        Y_var: str,\n",
        "        lag: int,\n",
        "        LSTM_layer_depth: int, \n",
        "        epochs=10, \n",
        "        batch_size=256,\n",
        "        train_test_split=0\n",
        "    ):\n",
        "\n",
        "        self.data = data \n",
        "        self.Y_var = Y_var \n",
        "        self.lag = lag \n",
        "        self.LSTM_layer_depth = LSTM_layer_depth\n",
        "        self.batch_size = batch_size\n",
        "        self.epochs = epochs\n",
        "        self.train_test_split = train_test_split\n",
        "\n",
        "    @staticmethod\n",
        "    def create_X_Y(ts: list, lag: int) -> tuple:\n",
        "        \"\"\"\n",
        "        A method to create X and Y matrix from a time series list for the training of \n",
        "        deep learning models \n",
        "        \"\"\"\n",
        "        X, Y = [], []\n",
        "\n",
        "        if len(ts) - lag <= 0:\n",
        "            X.append(ts)\n",
        "        else:\n",
        "            for i in range(len(ts) - lag):\n",
        "                Y.append(ts[i + lag])\n",
        "                X.append(ts[i:(i + lag)])\n",
        "\n",
        "        X, Y = np.array(X), np.array(Y)\n",
        "\n",
        "        # Reshaping the X array to an LSTM input shape \n",
        "        X = np.reshape(X, (X.shape[0], X.shape[1], 1))\n",
        "\n",
        "        return X, Y         \n",
        "\n",
        "    def create_data_for_NN(\n",
        "        self,\n",
        "        use_last_n=None\n",
        "        ):\n",
        "        \"\"\"\n",
        "        A method to create data for the neural network model\n",
        "        \"\"\"\n",
        "        # Extracting the main variable we want to model/forecast\n",
        "        y = self.data[self.Y_var].tolist()\n",
        "\n",
        "        # Subseting the time series if needed\n",
        "        if use_last_n is not None:\n",
        "            y = y[-use_last_n:]\n",
        "\n",
        "        # The X matrix will hold the lags of Y \n",
        "        X, Y = self.create_X_Y(y, self.lag)\n",
        "\n",
        "        # Creating training and test sets \n",
        "        X_train = X\n",
        "        X_test = []\n",
        "\n",
        "        Y_train = Y\n",
        "        Y_test = []\n",
        "\n",
        "        if self.train_test_split > 0:\n",
        "            index = round(len(X) * self.train_test_split)\n",
        "            X_train = X[:(len(X) - index)]\n",
        "            X_test = X[-index:]     \n",
        "            \n",
        "            Y_train = Y[:(len(X) - index)]\n",
        "            Y_test = Y[-index:]\n",
        "\n",
        "        return X_train, X_test, Y_train, Y_test\n",
        "\n",
        "    def LSTModel(self):\n",
        "        \"\"\"\n",
        "        A method to fit the LSTM model \n",
        "        \"\"\"\n",
        "        # Getting the data \n",
        "        X_train, X_test, Y_train, Y_test = self.create_data_for_NN()\n",
        "\n",
        "        # Defining the model\n",
        "        model = Sequential()\n",
        "        model.add(LSTM(self.LSTM_layer_depth, activation='relu', input_shape=(self.lag, 1)))\n",
        "        model.add(Dense(1))\n",
        "        model.compile(optimizer='adam', loss='mse')\n",
        "\n",
        "        # Defining the model parameter dict \n",
        "        keras_dict = {\n",
        "            'x': X_train,\n",
        "            'y': Y_train,\n",
        "            'batch_size': self.batch_size,\n",
        "            'epochs': self.epochs,\n",
        "            'shuffle': False\n",
        "        }\n",
        "\n",
        "        if self.train_test_split > 0:\n",
        "            keras_dict.update({\n",
        "                'validation_data': (X_test, Y_test)\n",
        "            })\n",
        "\n",
        "        # Fitting the model \n",
        "        model.fit(\n",
        "            **keras_dict\n",
        "        )\n",
        "\n",
        "        # Saving the model to the class \n",
        "        self.model = model\n",
        "\n",
        "        return model\n",
        "\n",
        "    def predict(self) -> list:\n",
        "        \"\"\"\n",
        "        A method to predict using the test data used in creating the class\n",
        "        \"\"\"\n",
        "        yhat = []\n",
        "\n",
        "        if(self.train_test_split > 0):\n",
        "        \n",
        "            # Getting the last n time series \n",
        "            _, X_test, _, _ = self.create_data_for_NN()        \n",
        "\n",
        "            # Making the prediction list \n",
        "            yhat = [y[0] for y in self.model.predict(X_test)]\n",
        "\n",
        "        return yhat\n",
        "\n",
        "    def predict_n_ahead(self, n_ahead: int):\n",
        "        \"\"\"\n",
        "        A method to predict n time steps ahead\n",
        "        \"\"\"    \n",
        "        X, _, _, _ = self.create_data_for_NN(use_last_n=self.lag)        \n",
        "\n",
        "        # Making the prediction list \n",
        "        yhat = []\n",
        "\n",
        "        for _ in range(n_ahead):\n",
        "            # Making the prediction\n",
        "            fc = self.model.predict(X)\n",
        "            yhat.append(fc)\n",
        "\n",
        "            # Creating a new input matrix for forecasting\n",
        "            X = np.append(X, fc)\n",
        "\n",
        "            # Ommiting the first variable\n",
        "            X = np.delete(X, 0)\n",
        "\n",
        "            # Reshaping for the next iteration\n",
        "            X = np.reshape(X, (1, len(X), 1))\n",
        "\n",
        "        return yhat    "
      ],
      "metadata": {
        "id": "BfL6Q0Y6PyjO"
      },
      "execution_count": 27,
      "outputs": []
    },
    {
      "cell_type": "code",
      "source": [
        "# Initiating the class\n",
        "deep_learner = DeepModelTS(\n",
        "data = df,\n",
        "Y_var = 'sales',\n",
        "lag = 6,\n",
        "LSTM_layer_depth = 50,\n",
        "epochs = 10,\n",
        "batch_size = 256,\n",
        "train_test_split = 0.15\n",
        ")"
      ],
      "metadata": {
        "id": "-ImRgEz4P0wp"
      },
      "execution_count": 28,
      "outputs": []
    },
    {
      "cell_type": "markdown",
      "source": [
        "Los parámetros de la clase son:\n",
        "datos- los datos utilizados para el modelado.\n",
        "Y_var - el nombre de la variable que queremos modelar/pronosticar.\n",
        "retraso: el número de retrasos utilizados para el modelado.\n",
        "LSTM_layer_depth - número de neuronas en la capa LSTM.\n",
        "epochs - número de bucles de entrenamiento (propagación hacia adelante a ciclos de propagación hacia atrás).\n",
        "batch_size: el tamaño de la muestra de datos para el descenso de gradiente utilizado en el hallazgo de los parámetros por el modelo de aprendizaje profundo. Todos los datos se dividen en trozos de batch_size tamaños y se alimentan a través de la red. Los parámetros internos del modelo se actualizan después de que cada batch_size de datos avanza y retrocede en el modelo."
      ],
      "metadata": {
        "id": "t8FNCB1DQAXX"
      }
    },
    {
      "cell_type": "code",
      "source": [
        "# Fitting the model\n",
        "model = deep_learner.LSTModel()"
      ],
      "metadata": {
        "colab": {
          "base_uri": "https://localhost:8080/"
        },
        "id": "PjMUzbnLQBnT",
        "outputId": "4ec8beb2-78f1-410d-908d-1e3b24bc3d95"
      },
      "execution_count": 29,
      "outputs": [
        {
          "output_type": "stream",
          "name": "stdout",
          "text": [
            "Epoch 1/10\n",
            "3032/3032 [==============================] - 28s 9ms/step - loss: 126.0654 - val_loss: 114.9657\n",
            "Epoch 2/10\n",
            "3032/3032 [==============================] - 27s 9ms/step - loss: 121.9108 - val_loss: 111.2004\n",
            "Epoch 3/10\n",
            "3032/3032 [==============================] - 27s 9ms/step - loss: 121.2064 - val_loss: 109.9805\n",
            "Epoch 4/10\n",
            "3032/3032 [==============================] - 27s 9ms/step - loss: 120.8602 - val_loss: 109.9641\n",
            "Epoch 5/10\n",
            "3032/3032 [==============================] - 27s 9ms/step - loss: 120.6738 - val_loss: 110.0206\n",
            "Epoch 6/10\n",
            "3032/3032 [==============================] - 28s 9ms/step - loss: 120.4439 - val_loss: 110.0840\n",
            "Epoch 7/10\n",
            "3032/3032 [==============================] - 28s 9ms/step - loss: 120.4547 - val_loss: 108.6492\n",
            "Epoch 8/10\n",
            "3032/3032 [==============================] - 28s 9ms/step - loss: 120.4440 - val_loss: 109.6391\n",
            "Epoch 9/10\n",
            "3032/3032 [==============================] - 28s 9ms/step - loss: 120.3277 - val_loss: 108.2202\n",
            "Epoch 10/10\n",
            "3032/3032 [==============================] - 28s 9ms/step - loss: 120.2645 - val_loss: 108.5038\n"
          ]
        }
      ]
    },
    {
      "cell_type": "code",
      "source": [
        "deep_learner = DeepModelTS(\n",
        "data = df,\n",
        "Y_var = 'sales',\n",
        "lag = 24\n",
        "LSTM_layer_depth = 50,\n",
        "epochs = 10,\n",
        "batch_size = 256,\n",
        "train_test_split = 0.15\n",
        ")\n",
        "model = deep_learner.LSTModel()"
      ],
      "metadata": {
        "colab": {
          "base_uri": "https://localhost:8080/"
        },
        "id": "WlS6J4N-QZqO",
        "outputId": "a495ed7e-512b-49b9-c0d0-0487bd4c4f0a"
      },
      "execution_count": null,
      "outputs": [
        {
          "output_type": "stream",
          "name": "stdout",
          "text": [
            "Epoch 1/10\n",
            "3032/3032 [==============================] - 100s 33ms/step - loss: 98.9533 - val_loss: 94.5079\n",
            "Epoch 2/10\n",
            " 491/3032 [===>..........................] - ETA: 1:12 - loss: 66.5489"
          ]
        }
      ]
    },
    {
      "cell_type": "code",
      "source": [
        "# Defining the lag that we used for training of the model \n",
        "lag_model = 24\n",
        "# Getting the last period\n",
        "ts = df['sales'].tail(lag_model).values.tolist()\n",
        "# Creating the X matrix for the model\n",
        "X, _ = deep_learner.create_X_Y(ts, lag=lag_model)\n",
        "# Getting the forecast\n",
        "yhat = model.predict(X)"
      ],
      "metadata": {
        "id": "qo9AuuPjQIVn"
      },
      "execution_count": null,
      "outputs": []
    },
    {
      "cell_type": "markdown",
      "source": [
        "i los datos se dividieron en conjuntos de entrenamiento y prueba, entonces el método deep_learner.predict() predecirá los puntos que están en el conjunto de pruebas para ver cómo funciona nuestro modelo fuera de la muestra."
      ],
      "metadata": {
        "id": "0gN6SFARW3lv"
      }
    },
    {
      "cell_type": "code",
      "source": [
        "import matplotlib.pyplot as plt\n"
      ],
      "metadata": {
        "id": "vx5PZD37R3-u"
      },
      "execution_count": null,
      "outputs": []
    },
    {
      "cell_type": "code",
      "source": [
        "yhat = deep_learner.predict()\n",
        "# Constructing the forecast dataframe\n",
        "fc = df.tail(len(yhat)).copy()\n",
        "fc.reset_index(inplace=True)\n",
        "fc['forecast'] = yhat\n",
        "# Ploting the forecasts\n",
        "plt.figure(figsize=(12, 8))\n",
        "for dtype in ['sales', 'forecast']:\n",
        "  plt.plot(\n",
        "    'date',\n",
        "    dtype,\n",
        "    data=fc,\n",
        "    label=dtype,\n",
        "    alpha=0.8\n",
        "  )\n",
        "plt.legend()\n",
        "plt.grid()\n",
        "plt.show()"
      ],
      "metadata": {
        "colab": {
          "base_uri": "https://localhost:8080/",
          "height": 483
        },
        "id": "8P-obd9QR1Xd",
        "outputId": "97dc77ac-139f-4b77-f7bf-a55de1dee2b0"
      },
      "execution_count": null,
      "outputs": [
        {
          "output_type": "display_data",
          "data": {
            "image/png": "[encoded data removed]",
            "text/plain": [
              "<Figure size 864x576 with 1 Axes>"
            ]
          },
          "metadata": {
            "needs_background": "light"
          }
        }
      ]
    }
  ]
}